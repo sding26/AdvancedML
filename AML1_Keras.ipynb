{
  "nbformat": 4,
  "nbformat_minor": 0,
  "metadata": {
    "colab": {
      "name": "AML1-Keras.ipynb",
      "provenance": [],
      "collapsed_sections": [],
      "authorship_tag": "ABX9TyM1n2isel0rTlrKfSsAzmyA",
      "include_colab_link": true
    },
    "kernelspec": {
      "name": "python3",
      "display_name": "Python 3"
    }
  },
  "cells": [
    {
      "cell_type": "markdown",
      "metadata": {
        "id": "view-in-github",
        "colab_type": "text"
      },
      "source": [
        "<a href=\"https://colab.research.google.com/github/sding26/testing/blob/master/AML1_Keras.ipynb\" target=\"_parent\"><img src=\"https://colab.research.google.com/assets/colab-badge.svg\" alt=\"Open In Colab\"/></a>"
      ]
    },
    {
      "cell_type": "markdown",
      "metadata": {
        "id": "jqiHbjsO-vhF",
        "colab_type": "text"
      },
      "source": [
        "Keras Model "
      ]
    },
    {
      "cell_type": "code",
      "metadata": {
        "id": "xqOYUH4o-t_T",
        "colab_type": "code",
        "colab": {}
      },
      "source": [
        "from keras.models import Sequential\n",
        "from keras.layers import Dense, Activation, Dropout\n",
        "import keras\n",
        "from keras.optimizers import SGD\n",
        "model = Sequential()\n",
        "model.add(Dense(124, input_dim=123, activation='relu'))\n",
        "model.add(Dense(124, activation='relu')) #太多nodes 改一下\n",
        "model.add(Dense(124, activation='relu')) \n",
        "\n",
        "model.add(Dense(5, activation='softmax'))  #softmax for multiple cate\n",
        "                                            \n",
        "# Compile model \n",
        "model.compile(loss='categorical_crossentropy', optimizer='sgd', metrics=['accuracy'])\n",
        "\n",
        "# Fitting the NN to the Training set 用transform(X_train)，并且one hot encode y\n",
        "model.fit(prediction_input_preprocessor.transform(X_train), pd.get_dummies(y_train), \n",
        "               batch_size = 60, \n",
        "               epochs = 400, validation_split=0.2)  \n"
      ],
      "execution_count": 0,
      "outputs": []
    }
  ]
}